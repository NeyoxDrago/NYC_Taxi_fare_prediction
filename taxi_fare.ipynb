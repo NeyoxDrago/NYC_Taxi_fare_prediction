{
  "nbformat": 4,
  "nbformat_minor": 0,
  "metadata": {
    "colab": {
      "name": "taxi_fare.ipynb",
      "provenance": [],
      "collapsed_sections": [],
      "machine_shape": "hm"
    },
    "kernelspec": {
      "name": "python3",
      "display_name": "Python 3"
    },
    "accelerator": "GPU"
  },
  "cells": [
    {
      "cell_type": "code",
      "metadata": {
        "id": "eeC3jCfXN2j8",
        "colab_type": "code",
        "outputId": "c551afcd-c2e0-4e10-d0c1-7f2a8ff275a6",
        "colab": {
          "base_uri": "https://localhost:8080/",
          "height": 202
        }
      },
      "source": [
        "!pip install kaggle"
      ],
      "execution_count": 0,
      "outputs": [
        {
          "output_type": "stream",
          "text": [
            "Requirement already satisfied: kaggle in /usr/local/lib/python3.6/dist-packages (1.5.6)\n",
            "Requirement already satisfied: requests in /usr/local/lib/python3.6/dist-packages (from kaggle) (2.21.0)\n",
            "Requirement already satisfied: python-slugify in /usr/local/lib/python3.6/dist-packages (from kaggle) (4.0.0)\n",
            "Requirement already satisfied: six>=1.10 in /usr/local/lib/python3.6/dist-packages (from kaggle) (1.12.0)\n",
            "Requirement already satisfied: python-dateutil in /usr/local/lib/python3.6/dist-packages (from kaggle) (2.6.1)\n",
            "Requirement already satisfied: tqdm in /usr/local/lib/python3.6/dist-packages (from kaggle) (4.28.1)\n",
            "Requirement already satisfied: certifi in /usr/local/lib/python3.6/dist-packages (from kaggle) (2019.9.11)\n",
            "Requirement already satisfied: urllib3<1.25,>=1.21.1 in /usr/local/lib/python3.6/dist-packages (from kaggle) (1.24.3)\n",
            "Requirement already satisfied: idna<2.9,>=2.5 in /usr/local/lib/python3.6/dist-packages (from requests->kaggle) (2.8)\n",
            "Requirement already satisfied: chardet<3.1.0,>=3.0.2 in /usr/local/lib/python3.6/dist-packages (from requests->kaggle) (3.0.4)\n",
            "Requirement already satisfied: text-unidecode>=1.3 in /usr/local/lib/python3.6/dist-packages (from python-slugify->kaggle) (1.3)\n"
          ],
          "name": "stdout"
        }
      ]
    },
    {
      "cell_type": "code",
      "metadata": {
        "id": "Nar-D3l6OS55",
        "colab_type": "code",
        "colab": {}
      },
      "source": [
        "!mkdir ../root/.kaggle/"
      ],
      "execution_count": 0,
      "outputs": []
    },
    {
      "cell_type": "code",
      "metadata": {
        "id": "pb0-ci7LOXUo",
        "colab_type": "code",
        "outputId": "e930a41c-a1aa-4a61-a995-14dfc4a9e6ac",
        "colab": {
          "base_uri": "https://localhost:8080/",
          "height": 34
        }
      },
      "source": [
        "#kindly upload you kaggle.json API file\n",
        "import shutil\n",
        "shutil.copy(\"kaggle.json\",\"../root/.kaggle/kaggle.json\")"
      ],
      "execution_count": 0,
      "outputs": [
        {
          "output_type": "execute_result",
          "data": {
            "text/plain": [
              "'../root/.kaggle/kaggle.json'"
            ]
          },
          "metadata": {
            "tags": []
          },
          "execution_count": 3
        }
      ]
    },
    {
      "cell_type": "code",
      "metadata": {
        "id": "lnnYZKOoOluI",
        "colab_type": "code",
        "outputId": "f0698a8a-cc84-44f6-c782-34d2a3a1694d",
        "colab": {
          "base_uri": "https://localhost:8080/",
          "height": 252
        }
      },
      "source": [
        "!kaggle competitions download -c new-york-city-taxi-fare-prediction"
      ],
      "execution_count": 0,
      "outputs": [
        {
          "output_type": "stream",
          "text": [
            "Warning: Your Kaggle API key is readable by other users on this system! To fix this, you can run 'chmod 600 /root/.kaggle/kaggle.json'\n",
            "Warning: Looks like you're using an outdated API Version, please consider updating (server 1.5.6 / client 1.5.4)\n",
            "Downloading sample_submission.csv to /content\n",
            "\r  0% 0.00/335k [00:00<?, ?B/s]\n",
            "100% 335k/335k [00:00<00:00, 46.0MB/s]\n",
            "Downloading test.csv to /content\n",
            "  0% 0.00/960k [00:00<?, ?B/s]\n",
            "100% 960k/960k [00:00<00:00, 63.3MB/s]\n",
            "Downloading train.csv.zip to /content\n",
            "100% 1.56G/1.56G [00:28<00:00, 56.1MB/s]\n",
            "100% 1.56G/1.56G [00:28<00:00, 59.0MB/s]\n",
            "Downloading GCP-Coupons-Instructions.rtf to /content\n",
            "  0% 0.00/486 [00:00<?, ?B/s]\n",
            "100% 486/486 [00:00<00:00, 434kB/s]\n"
          ],
          "name": "stdout"
        }
      ]
    },
    {
      "cell_type": "code",
      "metadata": {
        "id": "n7qj2r2rOpkp",
        "colab_type": "code",
        "outputId": "83b5357a-04a8-4177-a990-6a043ad5f7c7",
        "colab": {
          "base_uri": "https://localhost:8080/",
          "height": 50
        }
      },
      "source": [
        "!unzip train.csv.zip"
      ],
      "execution_count": 0,
      "outputs": [
        {
          "output_type": "stream",
          "text": [
            "Archive:  train.csv.zip\n",
            "  inflating: train.csv               \n"
          ],
          "name": "stdout"
        }
      ]
    },
    {
      "cell_type": "code",
      "metadata": {
        "id": "bXfBk3fWO4vS",
        "colab_type": "code",
        "colab": {}
      },
      "source": [
        "import pandas as pd\n",
        "data = pd.read_csv(\"train.csv\")"
      ],
      "execution_count": 0,
      "outputs": []
    },
    {
      "cell_type": "code",
      "metadata": {
        "id": "illbIMJMPQIc",
        "colab_type": "code",
        "colab": {}
      },
      "source": [
        "import pandas as pd\n",
        "import numpy as np\n",
        "def reduce_mem_usage(df):\n",
        "    start_mem = df.memory_usage().sum() / 1024**2\n",
        "    print('Memory usage of dataframe is {:.2f} MB'.format(start_mem))\n",
        "    \n",
        "    for col in df.columns:\n",
        "        col_type = df[col].dtype\n",
        "        \n",
        "        if col_type != object:\n",
        "            c_min = df[col].min()\n",
        "            c_max = df[col].max()\n",
        "            if str(col_type)[:3] == 'int':\n",
        "                if c_min > np.iinfo(np.int8).min and c_max < np.iinfo(np.int8).max:\n",
        "                    df[col] = df[col].astype(np.int8)\n",
        "                elif c_min > np.iinfo(np.int16).min and c_max < np.iinfo(np.int16).max:\n",
        "                    df[col] = df[col].astype(np.int16)\n",
        "                elif c_min > np.iinfo(np.int32).min and c_max < np.iinfo(np.int32).max:\n",
        "                    df[col] = df[col].astype(np.int32)\n",
        "                elif c_min > np.iinfo(np.int64).min and c_max < np.iinfo(np.int64).max:\n",
        "                    df[col] = df[col].astype(np.int64)  \n",
        "            else:\n",
        "                if c_min > np.finfo(np.float16).min and c_max < np.finfo(np.float16).max:\n",
        "                    df[col] = df[col].astype(np.float16)\n",
        "                elif c_min > np.finfo(np.float32).min and c_max < np.finfo(np.float32).max:\n",
        "                    df[col] = df[col].astype(np.float32)\n",
        "                else:\n",
        "                    df[col] = df[col].astype(np.float64)\n",
        "        else:\n",
        "            df[col] = df[col].astype('category')\n",
        "\n",
        "    end_mem = df.memory_usage().sum() / 1024**2\n",
        "    print('Memory usage after optimization is: {:.2f} MB'.format(end_mem))\n",
        "    print('Decreased by {:.1f}%'.format(100 * (start_mem - end_mem) / start_mem))\n",
        "    \n",
        "    return df"
      ],
      "execution_count": 0,
      "outputs": []
    },
    {
      "cell_type": "code",
      "metadata": {
        "id": "OO-M0kz-SkBt",
        "colab_type": "code",
        "outputId": "c7941a06-9cb2-40f0-8412-35f99279f8da",
        "colab": {
          "base_uri": "https://localhost:8080/",
          "height": 50
        }
      },
      "source": [
        "!pip install geopy"
      ],
      "execution_count": 0,
      "outputs": [
        {
          "output_type": "stream",
          "text": [
            "Requirement already satisfied: geopy in /usr/local/lib/python3.6/dist-packages (1.17.0)\n",
            "Requirement already satisfied: geographiclib<2,>=1.49 in /usr/local/lib/python3.6/dist-packages (from geopy) (1.50)\n"
          ],
          "name": "stdout"
        }
      ]
    },
    {
      "cell_type": "code",
      "metadata": {
        "id": "sjimuZDQVfV_",
        "colab_type": "code",
        "colab": {}
      },
      "source": [
        "from geopy.distance import geodesic,great_circle"
      ],
      "execution_count": 0,
      "outputs": []
    },
    {
      "cell_type": "code",
      "metadata": {
        "id": "2-9doMWs77Q6",
        "colab_type": "code",
        "outputId": "7649f68f-16c4-40f3-90e8-a15e382eef90",
        "colab": {
          "base_uri": "https://localhost:8080/",
          "height": 276
        }
      },
      "source": [
        "import matplotlib.pyplot as plt\n",
        "plt.scatter(1,data2[data2.fare_amount < 10].fare_amount.count(),c=\"r\")\n",
        "plt.scatter(2,data2[(data2.fare_amount > 10) & (data2.fare_amount < 50) ].fare_amount.count(),c=\"g\")\n",
        "plt.scatter(3,data2[(data2.fare_amount > 50) & (data2.fare_amount < 100) ].fare_amount.count(),c=\"g\")\n",
        "plt.scatter(4,data2[(data2.fare_amount > 100) & (data2.fare_amount < 500) ].fare_amount.count(),c=\"g\")\n",
        "plt.scatter(5,data2[(data2.fare_amount > 500) & (data2.fare_amount < 1000) ].fare_amount.count(),c=\"g\")\n",
        "plt.scatter(6,data2[(data2.fare_amount > 1000) ].fare_amount.count(),c=\"g\")\n",
        "\n",
        "plt.show()\n"
      ],
      "execution_count": 0,
      "outputs": [
        {
          "output_type": "display_data",
          "data": {
            "image/png": "[encoded data removed]",
            "text/plain": [
              "<Figure size 432x288 with 1 Axes>"
            ]
          },
          "metadata": {
            "tags": []
          }
        }
      ]
    },
    {
      "cell_type": "code",
      "metadata": {
        "colab_type": "code",
        "id": "9TYpim-htsHn",
        "colab": {}
      },
      "source": [
        "data = data[data.fare_amount >= 0]\n",
        "data = data.dropna()"
      ],
      "execution_count": 0,
      "outputs": []
    },
    {
      "cell_type": "code",
      "metadata": {
        "id": "MiZDJINhLLWB",
        "colab_type": "code",
        "colab": {}
      },
      "source": [
        "# data.to_csv(\"processed_train_data.csv\",index=None)"
      ],
      "execution_count": 0,
      "outputs": []
    },
    {
      "cell_type": "code",
      "metadata": {
        "id": "kisEdm-HOpz9",
        "colab_type": "code",
        "colab": {}
      },
      "source": [
        "data.pickup_datetime = pd.to_datetime(data.pickup_datetime)\n",
        "data = data.reset_index()\n",
        "# data.to_csv(\"training_data.csv\",index=None)"
      ],
      "execution_count": 0,
      "outputs": []
    },
    {
      "cell_type": "code",
      "metadata": {
        "id": "_ZxQ4VTdnZGj",
        "colab_type": "code",
        "colab": {}
      },
      "source": [
        "import pandas as pd\n",
        "data2 = pd.read_csv(\"training_data.csv\")"
      ],
      "execution_count": 0,
      "outputs": []
    },
    {
      "cell_type": "code",
      "metadata": {
        "id": "pkYieH2cnDWn",
        "colab_type": "code",
        "outputId": "7597a43e-11b8-4779-dea6-3ebee983f608",
        "colab": {
          "base_uri": "https://localhost:8080/",
          "height": 195
        }
      },
      "source": [
        "data2 = data.drop([\"key\"],axis=1)\n",
        "data2.head()"
      ],
      "execution_count": 0,
      "outputs": [
        {
          "output_type": "execute_result",
          "data": {
            "text/html": [
              "<div>\n",
              "<style scoped>\n",
              "    .dataframe tbody tr th:only-of-type {\n",
              "        vertical-align: middle;\n",
              "    }\n",
              "\n",
              "    .dataframe tbody tr th {\n",
              "        vertical-align: top;\n",
              "    }\n",
              "\n",
              "    .dataframe thead th {\n",
              "        text-align: right;\n",
              "    }\n",
              "</style>\n",
              "<table border=\"1\" class=\"dataframe\">\n",
              "  <thead>\n",
              "    <tr style=\"text-align: right;\">\n",
              "      <th></th>\n",
              "      <th>index</th>\n",
              "      <th>fare_amount</th>\n",
              "      <th>pickup_datetime</th>\n",
              "      <th>pickup_longitude</th>\n",
              "      <th>pickup_latitude</th>\n",
              "      <th>dropoff_longitude</th>\n",
              "      <th>dropoff_latitude</th>\n",
              "      <th>passenger_count</th>\n",
              "    </tr>\n",
              "  </thead>\n",
              "  <tbody>\n",
              "    <tr>\n",
              "      <th>0</th>\n",
              "      <td>0</td>\n",
              "      <td>4.5</td>\n",
              "      <td>2009-06-15 17:26:21+00:00</td>\n",
              "      <td>-73.844311</td>\n",
              "      <td>40.721319</td>\n",
              "      <td>-73.841610</td>\n",
              "      <td>40.712278</td>\n",
              "      <td>1</td>\n",
              "    </tr>\n",
              "    <tr>\n",
              "      <th>1</th>\n",
              "      <td>1</td>\n",
              "      <td>16.9</td>\n",
              "      <td>2010-01-05 16:52:16+00:00</td>\n",
              "      <td>-74.016048</td>\n",
              "      <td>40.711303</td>\n",
              "      <td>-73.979268</td>\n",
              "      <td>40.782004</td>\n",
              "      <td>1</td>\n",
              "    </tr>\n",
              "    <tr>\n",
              "      <th>2</th>\n",
              "      <td>2</td>\n",
              "      <td>5.7</td>\n",
              "      <td>2011-08-18 00:35:00+00:00</td>\n",
              "      <td>-73.982738</td>\n",
              "      <td>40.761270</td>\n",
              "      <td>-73.991242</td>\n",
              "      <td>40.750562</td>\n",
              "      <td>2</td>\n",
              "    </tr>\n",
              "    <tr>\n",
              "      <th>3</th>\n",
              "      <td>3</td>\n",
              "      <td>7.7</td>\n",
              "      <td>2012-04-21 04:30:42+00:00</td>\n",
              "      <td>-73.987130</td>\n",
              "      <td>40.733143</td>\n",
              "      <td>-73.991567</td>\n",
              "      <td>40.758092</td>\n",
              "      <td>1</td>\n",
              "    </tr>\n",
              "    <tr>\n",
              "      <th>4</th>\n",
              "      <td>4</td>\n",
              "      <td>5.3</td>\n",
              "      <td>2010-03-09 07:51:00+00:00</td>\n",
              "      <td>-73.968095</td>\n",
              "      <td>40.768008</td>\n",
              "      <td>-73.956655</td>\n",
              "      <td>40.783762</td>\n",
              "      <td>1</td>\n",
              "    </tr>\n",
              "  </tbody>\n",
              "</table>\n",
              "</div>"
            ],
            "text/plain": [
              "   index  fare_amount  ... dropoff_latitude  passenger_count\n",
              "0      0          4.5  ...        40.712278                1\n",
              "1      1         16.9  ...        40.782004                1\n",
              "2      2          5.7  ...        40.750562                2\n",
              "3      3          7.7  ...        40.758092                1\n",
              "4      4          5.3  ...        40.783762                1\n",
              "\n",
              "[5 rows x 8 columns]"
            ]
          },
          "metadata": {
            "tags": []
          },
          "execution_count": 34
        }
      ]
    },
    {
      "cell_type": "code",
      "metadata": {
        "id": "7aHiAyc5qIPv",
        "colab_type": "code",
        "colab": {}
      },
      "source": [
        "data2 = reduce_mem_usage(data2)"
      ],
      "execution_count": 0,
      "outputs": []
    },
    {
      "cell_type": "code",
      "metadata": {
        "id": "ojh9egl7t_4C",
        "colab_type": "code",
        "colab": {}
      },
      "source": [
        "# x1,y1 = data2.pickup_latitude[0],data2.pickup_longitude[0]\n",
        "# x2,y2 = data2.dropoff_latitude[0],data2.dropoff_longitude[0]\n",
        "\n",
        "# print(distance((x1,y1),(x2,y2)))\n",
        "# print(great_circle_distance(x1,y1,x2,y2))\n",
        "# print(geodesic_distance(x1,y1,x2,y2))"
      ],
      "execution_count": 0,
      "outputs": []
    },
    {
      "cell_type": "code",
      "metadata": {
        "id": "8L9hCO44vxZ9",
        "colab_type": "code",
        "outputId": "aca946dc-6550-4e1e-8178-0772b25a5430",
        "colab": {
          "base_uri": "https://localhost:8080/",
          "height": 195
        }
      },
      "source": [
        "data2.head()"
      ],
      "execution_count": 0,
      "outputs": [
        {
          "output_type": "execute_result",
          "data": {
            "text/html": [
              "<div>\n",
              "<style scoped>\n",
              "    .dataframe tbody tr th:only-of-type {\n",
              "        vertical-align: middle;\n",
              "    }\n",
              "\n",
              "    .dataframe tbody tr th {\n",
              "        vertical-align: top;\n",
              "    }\n",
              "\n",
              "    .dataframe thead th {\n",
              "        text-align: right;\n",
              "    }\n",
              "</style>\n",
              "<table border=\"1\" class=\"dataframe\">\n",
              "  <thead>\n",
              "    <tr style=\"text-align: right;\">\n",
              "      <th></th>\n",
              "      <th>index</th>\n",
              "      <th>fare_amount</th>\n",
              "      <th>pickup_datetime</th>\n",
              "      <th>pickup_longitude</th>\n",
              "      <th>pickup_latitude</th>\n",
              "      <th>dropoff_longitude</th>\n",
              "      <th>dropoff_latitude</th>\n",
              "      <th>passenger_count</th>\n",
              "    </tr>\n",
              "  </thead>\n",
              "  <tbody>\n",
              "    <tr>\n",
              "      <th>0</th>\n",
              "      <td>0</td>\n",
              "      <td>4.5</td>\n",
              "      <td>2009-06-15 17:26:21+00:00</td>\n",
              "      <td>-73.844311</td>\n",
              "      <td>40.721319</td>\n",
              "      <td>-73.841610</td>\n",
              "      <td>40.712278</td>\n",
              "      <td>1</td>\n",
              "    </tr>\n",
              "    <tr>\n",
              "      <th>1</th>\n",
              "      <td>1</td>\n",
              "      <td>16.9</td>\n",
              "      <td>2010-01-05 16:52:16+00:00</td>\n",
              "      <td>-74.016048</td>\n",
              "      <td>40.711303</td>\n",
              "      <td>-73.979268</td>\n",
              "      <td>40.782004</td>\n",
              "      <td>1</td>\n",
              "    </tr>\n",
              "    <tr>\n",
              "      <th>2</th>\n",
              "      <td>2</td>\n",
              "      <td>5.7</td>\n",
              "      <td>2011-08-18 00:35:00+00:00</td>\n",
              "      <td>-73.982738</td>\n",
              "      <td>40.761270</td>\n",
              "      <td>-73.991242</td>\n",
              "      <td>40.750562</td>\n",
              "      <td>2</td>\n",
              "    </tr>\n",
              "    <tr>\n",
              "      <th>3</th>\n",
              "      <td>3</td>\n",
              "      <td>7.7</td>\n",
              "      <td>2012-04-21 04:30:42+00:00</td>\n",
              "      <td>-73.987130</td>\n",
              "      <td>40.733143</td>\n",
              "      <td>-73.991567</td>\n",
              "      <td>40.758092</td>\n",
              "      <td>1</td>\n",
              "    </tr>\n",
              "    <tr>\n",
              "      <th>4</th>\n",
              "      <td>4</td>\n",
              "      <td>5.3</td>\n",
              "      <td>2010-03-09 07:51:00+00:00</td>\n",
              "      <td>-73.968095</td>\n",
              "      <td>40.768008</td>\n",
              "      <td>-73.956655</td>\n",
              "      <td>40.783762</td>\n",
              "      <td>1</td>\n",
              "    </tr>\n",
              "  </tbody>\n",
              "</table>\n",
              "</div>"
            ],
            "text/plain": [
              "   index  fare_amount  ... dropoff_latitude  passenger_count\n",
              "0      0          4.5  ...        40.712278                1\n",
              "1      1         16.9  ...        40.782004                1\n",
              "2      2          5.7  ...        40.750562                2\n",
              "3      3          7.7  ...        40.758092                1\n",
              "4      4          5.3  ...        40.783762                1\n",
              "\n",
              "[5 rows x 8 columns]"
            ]
          },
          "metadata": {
            "tags": []
          },
          "execution_count": 4
        }
      ]
    },
    {
      "cell_type": "code",
      "metadata": {
        "id": "Pj6RwnOZw6is",
        "colab_type": "code",
        "colab": {}
      },
      "source": [
        "data2 = data2[(data2.pickup_longitude <= 90) & (data2.pickup_longitude >= -90)]\n",
        "data2 = data2[(data2.pickup_latitude <= 90) & (data2.pickup_latitude >= -90)]\n",
        "data2 = data2[(data2.dropoff_longitude <= 90) & (data2.dropoff_longitude >= -90)]\n",
        "data2 = data2[(data2.dropoff_latitude <= 90) & (data2.dropoff_latitude >= -90)]"
      ],
      "execution_count": 0,
      "outputs": []
    },
    {
      "cell_type": "code",
      "metadata": {
        "id": "lixr8zd2EB_u",
        "colab_type": "code",
        "colab": {}
      },
      "source": [
        "from geopy.distance import geodesic,great_circle\n",
        "def geodesic_distance(x1,y1,x2,y2):\n",
        "  return geodesic((x1,y1),(x2,y2))\n",
        "\n",
        "def great_circle_distance(x1,y1,x2,y2):\n",
        "  return great_circle((x1,y1),(x2,y2))\n",
        "\n",
        "def distance(origin, destination):\n",
        "    import math\n",
        "    lat1, lon1 = origin\n",
        "    lat2, lon2 = destination\n",
        "    radius = 6371 # km\n",
        "\n",
        "    dlat = math.radians(lat2-lat1)\n",
        "    dlon = math.radians(lon2-lon1)\n",
        "    a = math.sin(dlat/2) * math.sin(dlat/2) + math.cos(math.radians(lat1)) \\\n",
        "        * math.cos(math.radians(lat2)) * math.sin(dlon/2) * math.sin(dlon/2)\n",
        "    c = 2 * math.atan2(math.sqrt(a), math.sqrt(1-a))\n",
        "    d = radius * c\n",
        "\n",
        "    return d"
      ],
      "execution_count": 0,
      "outputs": []
    },
    {
      "cell_type": "code",
      "metadata": {
        "id": "VzKz3q7_4TPn",
        "colab_type": "code",
        "colab": {}
      },
      "source": [
        "data2 = data2[data2.fare_amount <= 100].dropna()"
      ],
      "execution_count": 0,
      "outputs": []
    },
    {
      "cell_type": "code",
      "metadata": {
        "id": "8RfrO7Ijn_oL",
        "colab_type": "code",
        "outputId": "301d9e29-f913-49fd-e02f-80872d8fcf51",
        "colab": {
          "base_uri": "https://localhost:8080/",
          "height": 284
        }
      },
      "source": [
        "data2.describe()"
      ],
      "execution_count": 0,
      "outputs": [
        {
          "output_type": "execute_result",
          "data": {
            "text/html": [
              "<div>\n",
              "<style scoped>\n",
              "    .dataframe tbody tr th:only-of-type {\n",
              "        vertical-align: middle;\n",
              "    }\n",
              "\n",
              "    .dataframe tbody tr th {\n",
              "        vertical-align: top;\n",
              "    }\n",
              "\n",
              "    .dataframe thead th {\n",
              "        text-align: right;\n",
              "    }\n",
              "</style>\n",
              "<table border=\"1\" class=\"dataframe\">\n",
              "  <thead>\n",
              "    <tr style=\"text-align: right;\">\n",
              "      <th></th>\n",
              "      <th>index</th>\n",
              "      <th>fare_amount</th>\n",
              "      <th>pickup_longitude</th>\n",
              "      <th>pickup_latitude</th>\n",
              "      <th>dropoff_longitude</th>\n",
              "      <th>dropoff_latitude</th>\n",
              "      <th>passenger_count</th>\n",
              "    </tr>\n",
              "  </thead>\n",
              "  <tbody>\n",
              "    <tr>\n",
              "      <th>count</th>\n",
              "      <td>5.539715e+07</td>\n",
              "      <td>5.539715e+07</td>\n",
              "      <td>5.539715e+07</td>\n",
              "      <td>5.539715e+07</td>\n",
              "      <td>5.539715e+07</td>\n",
              "      <td>5.539715e+07</td>\n",
              "      <td>5.539715e+07</td>\n",
              "    </tr>\n",
              "    <tr>\n",
              "      <th>mean</th>\n",
              "      <td>2.771197e+07</td>\n",
              "      <td>1.129277e+01</td>\n",
              "      <td>-7.250123e+01</td>\n",
              "      <td>3.991912e+01</td>\n",
              "      <td>-7.250606e+01</td>\n",
              "      <td>3.992161e+01</td>\n",
              "      <td>1.685480e+00</td>\n",
              "    </tr>\n",
              "    <tr>\n",
              "      <th>std</th>\n",
              "      <td>1.599949e+07</td>\n",
              "      <td>9.410433e+00</td>\n",
              "      <td>1.044542e+01</td>\n",
              "      <td>6.107921e+00</td>\n",
              "      <td>1.042609e+01</td>\n",
              "      <td>6.100679e+00</td>\n",
              "      <td>1.326884e+00</td>\n",
              "    </tr>\n",
              "    <tr>\n",
              "      <th>min</th>\n",
              "      <td>0.000000e+00</td>\n",
              "      <td>0.000000e+00</td>\n",
              "      <td>-8.993333e+01</td>\n",
              "      <td>-7.783387e+01</td>\n",
              "      <td>-8.996667e+01</td>\n",
              "      <td>-7.418663e+01</td>\n",
              "      <td>0.000000e+00</td>\n",
              "    </tr>\n",
              "    <tr>\n",
              "      <th>25%</th>\n",
              "      <td>1.385595e+07</td>\n",
              "      <td>6.000000e+00</td>\n",
              "      <td>-7.399207e+01</td>\n",
              "      <td>4.073494e+01</td>\n",
              "      <td>-7.399140e+01</td>\n",
              "      <td>4.073404e+01</td>\n",
              "      <td>1.000000e+00</td>\n",
              "    </tr>\n",
              "    <tr>\n",
              "      <th>50%</th>\n",
              "      <td>2.771197e+07</td>\n",
              "      <td>8.500000e+00</td>\n",
              "      <td>-7.398181e+01</td>\n",
              "      <td>4.075265e+01</td>\n",
              "      <td>-7.398015e+01</td>\n",
              "      <td>4.075316e+01</td>\n",
              "      <td>1.000000e+00</td>\n",
              "    </tr>\n",
              "    <tr>\n",
              "      <th>75%</th>\n",
              "      <td>4.156800e+07</td>\n",
              "      <td>1.250000e+01</td>\n",
              "      <td>-7.396709e+01</td>\n",
              "      <td>4.076713e+01</td>\n",
              "      <td>-7.396368e+01</td>\n",
              "      <td>4.076809e+01</td>\n",
              "      <td>2.000000e+00</td>\n",
              "    </tr>\n",
              "    <tr>\n",
              "      <th>max</th>\n",
              "      <td>5.542386e+07</td>\n",
              "      <td>1.000000e+02</td>\n",
              "      <td>8.570278e+01</td>\n",
              "      <td>8.974216e+01</td>\n",
              "      <td>8.570278e+01</td>\n",
              "      <td>8.981667e+01</td>\n",
              "      <td>2.080000e+02</td>\n",
              "    </tr>\n",
              "  </tbody>\n",
              "</table>\n",
              "</div>"
            ],
            "text/plain": [
              "              index   fare_amount  ...  dropoff_latitude  passenger_count\n",
              "count  5.539715e+07  5.539715e+07  ...      5.539715e+07     5.539715e+07\n",
              "mean   2.771197e+07  1.129277e+01  ...      3.992161e+01     1.685480e+00\n",
              "std    1.599949e+07  9.410433e+00  ...      6.100679e+00     1.326884e+00\n",
              "min    0.000000e+00  0.000000e+00  ...     -7.418663e+01     0.000000e+00\n",
              "25%    1.385595e+07  6.000000e+00  ...      4.073404e+01     1.000000e+00\n",
              "50%    2.771197e+07  8.500000e+00  ...      4.075316e+01     1.000000e+00\n",
              "75%    4.156800e+07  1.250000e+01  ...      4.076809e+01     2.000000e+00\n",
              "max    5.542386e+07  1.000000e+02  ...      8.981667e+01     2.080000e+02\n",
              "\n",
              "[8 rows x 7 columns]"
            ]
          },
          "metadata": {
            "tags": []
          },
          "execution_count": 9
        }
      ]
    },
    {
      "cell_type": "code",
      "metadata": {
        "id": "5mymovjjNLuv",
        "colab_type": "code",
        "outputId": "788b33bb-ba93-47b2-a67a-c9aaf75010e1",
        "colab": {
          "base_uri": "https://localhost:8080/",
          "height": 84
        }
      },
      "source": [
        "data2.columns"
      ],
      "execution_count": 0,
      "outputs": [
        {
          "output_type": "execute_result",
          "data": {
            "text/plain": [
              "Index(['index', 'fare_amount', 'pickup_datetime', 'pickup_longitude',\n",
              "       'pickup_latitude', 'dropoff_longitude', 'dropoff_latitude',\n",
              "       'passenger_count'],\n",
              "      dtype='object')"
            ]
          },
          "metadata": {
            "tags": []
          },
          "execution_count": 22
        }
      ]
    },
    {
      "cell_type": "code",
      "metadata": {
        "id": "WY-3HvwlKbCQ",
        "colab_type": "code",
        "colab": {}
      },
      "source": [
        "#sample Check\n",
        "testing_data = data2[:500000]"
      ],
      "execution_count": 0,
      "outputs": []
    },
    {
      "cell_type": "code",
      "metadata": {
        "id": "9aHZer7tKC4h",
        "colab_type": "code",
        "outputId": "94b0f89b-a6c4-4791-ff51-376da81bf145",
        "colab": {
          "base_uri": "https://localhost:8080/",
          "height": 67
        }
      },
      "source": [
        "import time\n",
        "from datetime import datetime\n",
        "from tqdm import tqdm\n",
        "print(\"Started at \",datetime.now())\n",
        "start = time.time()\n",
        "al = []\n",
        "\n",
        "for index,row in tqdm(testing_data.iterrows()):\n",
        "\n",
        "  al.append(data2.iloc[index:index+1].apply(lambda x:\"{0:.2f}\".format(\n",
        "      float(str((geodesic_distance(x.pickup_latitude,\n",
        "                                  x.pickup_longitude,\n",
        "                                  x.dropoff_latitude,\n",
        "                                  x.dropoff_longitude\n",
        "                                  ))).split(\" \")[0]))\n",
        "  ,axis=1))\n",
        "\n",
        "end = time.time()\n",
        "\n",
        "print(\"time taken\",(end-start)/60)\n",
        "\n",
        "# data2['geo_centric'] = data2.apply(lambda x:great_circle_distance(\n",
        "#     x.pickup_latitude,x.pickup_longitude,x.dropoff_latitude,x.dropoff_longitude\n",
        "# ),axis=1)"
      ],
      "execution_count": 0,
      "outputs": [
        {
          "output_type": "stream",
          "text": [
            "1it [00:00,  5.91it/s]"
          ],
          "name": "stderr"
        },
        {
          "output_type": "stream",
          "text": [
            "Started at  2019-12-06 12:59:11.246024\n"
          ],
          "name": "stdout"
        },
        {
          "output_type": "stream",
          "text": [
            "500000it [13:23, 622.45it/s]"
          ],
          "name": "stderr"
        },
        {
          "output_type": "stream",
          "text": [
            "time taken 13.392701065540313\n"
          ],
          "name": "stdout"
        },
        {
          "output_type": "stream",
          "text": [
            "\n"
          ],
          "name": "stderr"
        }
      ]
    },
    {
      "cell_type": "code",
      "metadata": {
        "id": "Y2s1hb77SVqO",
        "colab_type": "code",
        "outputId": "b885925e-3c49-4b1c-8bd0-c8902c92c80f",
        "colab": {
          "base_uri": "https://localhost:8080/",
          "height": 402
        }
      },
      "source": [
        "testing_data"
      ],
      "execution_count": 0,
      "outputs": [
        {
          "output_type": "execute_result",
          "data": {
            "text/html": [
              "<div>\n",
              "<style scoped>\n",
              "    .dataframe tbody tr th:only-of-type {\n",
              "        vertical-align: middle;\n",
              "    }\n",
              "\n",
              "    .dataframe tbody tr th {\n",
              "        vertical-align: top;\n",
              "    }\n",
              "\n",
              "    .dataframe thead th {\n",
              "        text-align: right;\n",
              "    }\n",
              "</style>\n",
              "<table border=\"1\" class=\"dataframe\">\n",
              "  <thead>\n",
              "    <tr style=\"text-align: right;\">\n",
              "      <th></th>\n",
              "      <th>index</th>\n",
              "      <th>fare_amount</th>\n",
              "      <th>pickup_datetime</th>\n",
              "      <th>pickup_longitude</th>\n",
              "      <th>pickup_latitude</th>\n",
              "      <th>dropoff_longitude</th>\n",
              "      <th>dropoff_latitude</th>\n",
              "      <th>passenger_count</th>\n",
              "    </tr>\n",
              "  </thead>\n",
              "  <tbody>\n",
              "    <tr>\n",
              "      <th>0</th>\n",
              "      <td>0</td>\n",
              "      <td>4.5</td>\n",
              "      <td>2009-06-15 17:26:21+00:00</td>\n",
              "      <td>-73.844311</td>\n",
              "      <td>40.721319</td>\n",
              "      <td>-73.841610</td>\n",
              "      <td>40.712278</td>\n",
              "      <td>1</td>\n",
              "    </tr>\n",
              "    <tr>\n",
              "      <th>1</th>\n",
              "      <td>1</td>\n",
              "      <td>16.9</td>\n",
              "      <td>2010-01-05 16:52:16+00:00</td>\n",
              "      <td>-74.016048</td>\n",
              "      <td>40.711303</td>\n",
              "      <td>-73.979268</td>\n",
              "      <td>40.782004</td>\n",
              "      <td>1</td>\n",
              "    </tr>\n",
              "    <tr>\n",
              "      <th>2</th>\n",
              "      <td>2</td>\n",
              "      <td>5.7</td>\n",
              "      <td>2011-08-18 00:35:00+00:00</td>\n",
              "      <td>-73.982738</td>\n",
              "      <td>40.761270</td>\n",
              "      <td>-73.991242</td>\n",
              "      <td>40.750562</td>\n",
              "      <td>2</td>\n",
              "    </tr>\n",
              "    <tr>\n",
              "      <th>3</th>\n",
              "      <td>3</td>\n",
              "      <td>7.7</td>\n",
              "      <td>2012-04-21 04:30:42+00:00</td>\n",
              "      <td>-73.987130</td>\n",
              "      <td>40.733143</td>\n",
              "      <td>-73.991567</td>\n",
              "      <td>40.758092</td>\n",
              "      <td>1</td>\n",
              "    </tr>\n",
              "    <tr>\n",
              "      <th>4</th>\n",
              "      <td>4</td>\n",
              "      <td>5.3</td>\n",
              "      <td>2010-03-09 07:51:00+00:00</td>\n",
              "      <td>-73.968095</td>\n",
              "      <td>40.768008</td>\n",
              "      <td>-73.956655</td>\n",
              "      <td>40.783762</td>\n",
              "      <td>1</td>\n",
              "    </tr>\n",
              "    <tr>\n",
              "      <th>...</th>\n",
              "      <td>...</td>\n",
              "      <td>...</td>\n",
              "      <td>...</td>\n",
              "      <td>...</td>\n",
              "      <td>...</td>\n",
              "      <td>...</td>\n",
              "      <td>...</td>\n",
              "      <td>...</td>\n",
              "    </tr>\n",
              "    <tr>\n",
              "      <th>500230</th>\n",
              "      <td>500256</td>\n",
              "      <td>13.5</td>\n",
              "      <td>2014-03-06 00:16:00+00:00</td>\n",
              "      <td>-73.995847</td>\n",
              "      <td>40.759165</td>\n",
              "      <td>-74.000470</td>\n",
              "      <td>40.719872</td>\n",
              "      <td>5</td>\n",
              "    </tr>\n",
              "    <tr>\n",
              "      <th>500231</th>\n",
              "      <td>500257</td>\n",
              "      <td>19.0</td>\n",
              "      <td>2014-06-09 01:59:40+00:00</td>\n",
              "      <td>-73.989738</td>\n",
              "      <td>40.757047</td>\n",
              "      <td>-74.010661</td>\n",
              "      <td>40.711412</td>\n",
              "      <td>4</td>\n",
              "    </tr>\n",
              "    <tr>\n",
              "      <th>500232</th>\n",
              "      <td>500258</td>\n",
              "      <td>4.9</td>\n",
              "      <td>2010-03-30 12:14:13+00:00</td>\n",
              "      <td>-73.949165</td>\n",
              "      <td>40.773303</td>\n",
              "      <td>-73.953259</td>\n",
              "      <td>40.765016</td>\n",
              "      <td>1</td>\n",
              "    </tr>\n",
              "    <tr>\n",
              "      <th>500233</th>\n",
              "      <td>500259</td>\n",
              "      <td>4.5</td>\n",
              "      <td>2010-08-10 23:10:00+00:00</td>\n",
              "      <td>-73.973687</td>\n",
              "      <td>40.763232</td>\n",
              "      <td>-73.972853</td>\n",
              "      <td>40.754732</td>\n",
              "      <td>1</td>\n",
              "    </tr>\n",
              "    <tr>\n",
              "      <th>500234</th>\n",
              "      <td>500260</td>\n",
              "      <td>8.1</td>\n",
              "      <td>2012-01-25 15:33:00+00:00</td>\n",
              "      <td>-73.991352</td>\n",
              "      <td>40.750023</td>\n",
              "      <td>-73.987078</td>\n",
              "      <td>40.729412</td>\n",
              "      <td>1</td>\n",
              "    </tr>\n",
              "  </tbody>\n",
              "</table>\n",
              "<p>500000 rows × 8 columns</p>\n",
              "</div>"
            ],
            "text/plain": [
              "         index  fare_amount  ... dropoff_latitude  passenger_count\n",
              "0            0          4.5  ...        40.712278                1\n",
              "1            1         16.9  ...        40.782004                1\n",
              "2            2          5.7  ...        40.750562                2\n",
              "3            3          7.7  ...        40.758092                1\n",
              "4            4          5.3  ...        40.783762                1\n",
              "...        ...          ...  ...              ...              ...\n",
              "500230  500256         13.5  ...        40.719872                5\n",
              "500231  500257         19.0  ...        40.711412                4\n",
              "500232  500258          4.9  ...        40.765016                1\n",
              "500233  500259          4.5  ...        40.754732                1\n",
              "500234  500260          8.1  ...        40.729412                1\n",
              "\n",
              "[500000 rows x 8 columns]"
            ]
          },
          "metadata": {
            "tags": []
          },
          "execution_count": 44
        }
      ]
    },
    {
      "cell_type": "code",
      "metadata": {
        "id": "eQ4k90vyV8ic",
        "colab_type": "code",
        "colab": {}
      },
      "source": [
        "testing_data = testing_data.drop([\"index\"],axis=1).reset_index()"
      ],
      "execution_count": 0,
      "outputs": []
    },
    {
      "cell_type": "code",
      "metadata": {
        "id": "5zmFi9FkWa-B",
        "colab_type": "code",
        "colab": {}
      },
      "source": [
        "from sklearn.model_selection import train_test_split\n",
        "from sklearn.linear_model import LinearRegression\n"
      ],
      "execution_count": 0,
      "outputs": []
    },
    {
      "cell_type": "code",
      "metadata": {
        "id": "BUMthEB0Wy2i",
        "colab_type": "code",
        "colab": {}
      },
      "source": [
        "x = testing_data.drop([\"fare_amount\",\"pickup_datetime\"],axis=1)\n",
        "x = x.drop([\"index\"],axis=1)\n",
        "y = testing_data[[\"fare_amount\"]]\n",
        "x_train,x_test,y_train,y_test = train_test_split(x,y,test_size=0.20)"
      ],
      "execution_count": 0,
      "outputs": []
    },
    {
      "cell_type": "code",
      "metadata": {
        "id": "HDhv_REEYYJ2",
        "colab_type": "code",
        "outputId": "334e6de8-4043-4429-a127-dc31ffe4b9ab",
        "colab": {
          "base_uri": "https://localhost:8080/",
          "height": 50
        }
      },
      "source": [
        "model = LinearRegression()\n",
        "model.fit(x_train,y_train)\n",
        "print(\"Linear Regression testing\")\n",
        "print(\"Training Score\",model.score(x_train,y_train))\n",
        "print(\"Testing Score\",model.score(x_test,y_test))"
      ],
      "execution_count": 0,
      "outputs": [
        {
          "output_type": "stream",
          "text": [
            "Training Score 0.0003729824283968952\n",
            "Testing Score 0.00023725662542073425\n"
          ],
          "name": "stdout"
        }
      ]
    },
    {
      "cell_type": "code",
      "metadata": {
        "id": "yTaV1iXgYl5n",
        "colab_type": "code",
        "outputId": "0d673194-f681-4539-9887-9bc6b9dbcad9",
        "colab": {
          "base_uri": "https://localhost:8080/",
          "height": 50
        }
      },
      "source": [
        "from sklearn.tree import DecisionTreeRegressor\n",
        "model = DecisionTreeRegressor()\n",
        "model.fit(x_train,y_train)\n",
        "print(\"Decision Tree testing\")\n",
        "print(\"Training Score\",model.score(x_train,y_train))\n",
        "print(\"Testing Score\",model.score(x_test,y_test))"
      ],
      "execution_count": 0,
      "outputs": [
        {
          "output_type": "stream",
          "text": [
            "Training Score 0.9774799768014172\n",
            "Testing Score 0.6488024068540741\n"
          ],
          "name": "stdout"
        }
      ]
    },
    {
      "cell_type": "code",
      "metadata": {
        "id": "KhUkDqo5ZDiV",
        "colab_type": "code",
        "outputId": "202b097d-47d1-4a8c-cad2-3f12d40d1ae3",
        "colab": {
          "base_uri": "https://localhost:8080/",
          "height": 50
        }
      },
      "source": [
        "from lightgbm import LGBMRegressor\n",
        "model = LGBMRegressor()\n",
        "model.fit(x_train,y_train)\n",
        "print(\"Light Gradient Boosting testing\")\n",
        "print(\"Training Score\",model.score(x_train,y_train))\n",
        "print(\"Testing Score\",model.score(x_test,y_test))"
      ],
      "execution_count": 0,
      "outputs": [
        {
          "output_type": "stream",
          "text": [
            "Training Score 0.7945471346229904\n",
            "Testing Score 0.796505269286971\n"
          ],
          "name": "stdout"
        }
      ]
    },
    {
      "cell_type": "code",
      "metadata": {
        "id": "sbd1bpPLZLVi",
        "colab_type": "code",
        "outputId": "19bc83b4-1dfb-43e8-d586-56cab319a4d2",
        "colab": {
          "base_uri": "https://localhost:8080/",
          "height": 67
        }
      },
      "source": [
        "from xgboost import XGBRegressor\n",
        "model = XGBRegressor()\n",
        "model.fit(x_train,y_train)\n",
        "print(\"XGBoost testing\")\n",
        "print(\"Training Score\",model.score(x_train,y_train))\n",
        "print(\"Testing Score\",model.score(x_test,y_test))"
      ],
      "execution_count": 0,
      "outputs": [
        {
          "output_type": "stream",
          "text": [
            "[13:27:53] WARNING: /workspace/src/objective/regression_obj.cu:152: reg:linear is now deprecated in favor of reg:squarederror.\n",
            "Training Score 0.7491787601409472\n",
            "Testing Score 0.753737086307197\n"
          ],
          "name": "stdout"
        }
      ]
    }
  ]
}